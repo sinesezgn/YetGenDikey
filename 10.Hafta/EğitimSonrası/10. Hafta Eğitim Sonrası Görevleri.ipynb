{
 "cells": [
  {
   "attachments": {},
   "cell_type": "markdown",
   "metadata": {},
   "source": [
    "# Problem 1 "
   ]
  },
  {
   "cell_type": "code",
   "execution_count": 1,
   "metadata": {},
   "outputs": [
    {
     "ename": "ModuleNotFoundError",
     "evalue": "No module named 'numpy'",
     "output_type": "error",
     "traceback": [
      "\u001b[1;31m---------------------------------------------------------------------------\u001b[0m",
      "\u001b[1;31mModuleNotFoundError\u001b[0m                       Traceback (most recent call last)",
      "Cell \u001b[1;32mIn[1], line 1\u001b[0m\n\u001b[1;32m----> 1\u001b[0m \u001b[39mimport\u001b[39;00m \u001b[39mnumpy\u001b[39;00m \u001b[39mas\u001b[39;00m \u001b[39mnp\u001b[39;00m\n\u001b[0;32m      3\u001b[0m \u001b[39m# 5 elemanlı bir NumPy dizisi oluşturma\u001b[39;00m\n\u001b[0;32m      4\u001b[0m my_array \u001b[39m=\u001b[39m np\u001b[39m.\u001b[39marray([\u001b[39m4\u001b[39m, \u001b[39m1\u001b[39m, \u001b[39m3\u001b[39m, \u001b[39m5\u001b[39m, \u001b[39m2\u001b[39m])\n",
      "\u001b[1;31mModuleNotFoundError\u001b[0m: No module named 'numpy'"
     ]
    }
   ],
   "source": [
    "import numpy as np\n",
    "\n",
    "# 5 elemanlı bir NumPy dizisi oluşturma\n",
    "my_array = np.array([4, 1, 3, 5, 2])\n",
    "\n",
    "# Diziyi küçükten büyüğe sıralama\n",
    "sorted_array = np.sort(my_array)\n",
    "\n",
    "print(sorted_array)\n"
   ]
  },
  {
   "attachments": {},
   "cell_type": "markdown",
   "metadata": {},
   "source": [
    "# Problem 2"
   ]
  },
  {
   "cell_type": "code",
   "execution_count": 2,
   "metadata": {},
   "outputs": [
    {
     "ename": "ModuleNotFoundError",
     "evalue": "No module named 'numpy'",
     "output_type": "error",
     "traceback": [
      "\u001b[1;31m---------------------------------------------------------------------------\u001b[0m",
      "\u001b[1;31mModuleNotFoundError\u001b[0m                       Traceback (most recent call last)",
      "Cell \u001b[1;32mIn[2], line 1\u001b[0m\n\u001b[1;32m----> 1\u001b[0m \u001b[39mimport\u001b[39;00m \u001b[39mnumpy\u001b[39;00m \u001b[39mas\u001b[39;00m \u001b[39mnp\u001b[39;00m\n\u001b[0;32m      3\u001b[0m my_array \u001b[39m=\u001b[39m np\u001b[39m.\u001b[39marray([\u001b[39m10\u001b[39m, \u001b[39m15\u001b[39m, \u001b[39m30\u001b[39m, \u001b[39m45\u001b[39m, \u001b[39m60\u001b[39m])\n\u001b[0;32m      4\u001b[0m \u001b[39mprint\u001b[39m(my_array)\n",
      "\u001b[1;31mModuleNotFoundError\u001b[0m: No module named 'numpy'"
     ]
    }
   ],
   "source": [
    "import numpy as np\n",
    "\n",
    "my_array = np.array([10, 15, 30, 45, 60])\n",
    "print(my_array)\n",
    "\n",
    "my_array = np.arange(5, 16)\n",
    "print(my_array)\n",
    "\n",
    "my_array = np.arange(50, 101, 5)\n",
    "print(my_array)\n",
    "\n",
    "my_array = np.zeros(10)\n",
    "print(my_array)\n",
    "\n",
    "my_array = np.ones(10)\n",
    "print(my_array)\n",
    "\n",
    "my_array = np.linspace(0, 100, 5)\n",
    "print(my_array)\n",
    "\n",
    "my_array = np.random.randint(10, 31, 5)\n",
    "print(my_array)\n",
    "\n",
    "my_array = np.random.uniform(-1, 1, 10)\n",
    "print(my_array)\n",
    "\n",
    "my_array = np.random.randint(10, 51, size=(3, 5))\n",
    "print(my_array)\n",
    "\n",
    "row_sums = np.sum(my_array, axis=1)\n",
    "column_sums = np.sum(my_array, axis=0)\n",
    "print(\"Satır toplamları:\", row_sums)\n",
    "print(\"Sütun toplamları:\", column_sums)\n",
    "\n",
    "max_val = np.max(my_array)\n",
    "min_val = np.min(my_array)\n",
    "mean_val = np.mean(my_array)\n",
    "print(\"En büyük değer:\", max_val)\n",
    "print(\"En küçük değer:\", min_val)\n",
    "print(\"Ortalama değer:\", mean_val)\n",
    "\n",
    "max_index = np.argmax(my_array)\n",
    "print(\"En büyük değerin indeksi:\", max_index)\n",
    "\n",
    "my_array = np.arange(10, 21)\n",
    "print(my_array[:3])\n",
    "\n",
    "print(my_array[::-1])\n",
    "\n"
   ]
  }
 ],
 "metadata": {
  "kernelspec": {
   "display_name": "Python 3",
   "language": "python",
   "name": "python3"
  },
  "language_info": {
   "codemirror_mode": {
    "name": "ipython",
    "version": 3
   },
   "file_extension": ".py",
   "mimetype": "text/x-python",
   "name": "python",
   "nbconvert_exporter": "python",
   "pygments_lexer": "ipython3",
   "version": "3.11.1"
  },
  "orig_nbformat": 4,
  "vscode": {
   "interpreter": {
    "hash": "5026d2d6e7aaaaba093def813beadff083d8733e4a511af01735cbabd156995d"
   }
  }
 },
 "nbformat": 4,
 "nbformat_minor": 2
}
