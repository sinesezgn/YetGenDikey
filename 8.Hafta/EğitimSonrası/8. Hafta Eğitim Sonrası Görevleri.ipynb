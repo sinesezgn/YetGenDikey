{
 "cells": [
  {
   "attachments": {},
   "cell_type": "markdown",
   "metadata": {},
   "source": [
    "# Problem 1\n",
    "\n",
    "Şimdi beraber kullanıcılardan aldığımız verileri işleyerek, onlara hem çıktı verecek, hem de aldığımız ve hesapladığımız verileri ileride kullanabilmek adına kaydedeceğiz.\n",
    "\n",
    "\n",
    " **Bu bir veri giriş platformu olacak**\n",
    "\n",
    "\n",
    " * kullanıcıya kaç giriş yapacağını soracağız\n",
    "* kullanıcıdan isim-soyisim, yaş, boy, kilo bilgilerini alarak VKİ hesaplayacağız\n",
    "* ardından bunları sınıflara göre kaydedeceğiz bir dosyaya kaydedeceğiz\n",
    "\n",
    "\n",
    "Sınıflar ise şu şekilde: \n",
    "* 18, 5 kg/m.'nin altında olanlar: Zayıf\n",
    "* 18.5 – 24, 9 kg/m. arasında olanlar: Normal kilolu\n",
    "* 25 – 29, 9 kg/m. arasında olanlar: Fazla kilolu\n",
    "* 30 – 39, 9 kg/m. arasında olanlar: Obez\n",
    "* 40 kg/m.'nin üzerinde olanlar: İleri derecede obez (morbid obez), olarak görülür."
   ]
  },
  {
   "cell_type": "code",
   "execution_count": 2,
   "metadata": {},
   "outputs": [],
   "source": [
    "num_entries = int(input(\"Kaç giriş yapacaksınız? \"))\n",
    "\n",
    "# Her giriş için kullanıcı bilgilerini istiyoruz ve VKİ hesaplıyoruz\n",
    "for i in range(num_entries):\n",
    "    name = input(\"Adınız ve soyadınız nedir? \")\n",
    "    age = int(input(\"Yaşınız nedir? \"))\n",
    "    height = float(input(\"Boyunuz (cm cinsinden) nedir? \"))\n",
    "    weight = float(input(\"Kilonuz (kg cinsinden) nedir? \"))\n",
    "    \n",
    "    # VKİ hesaplamak için boy uzunluğunu metre cinsine çeviriyoruz\n",
    "    height_m = height / 100\n",
    "    bmi = weight / (height_m ** 2)\n",
    "    \n",
    "    # VKİ sınıfını belirliyoruz\n",
    "    if bmi < 18.5:\n",
    "        bmi_class = \"Zayıf\"\n",
    "    elif bmi < 25:\n",
    "        bmi_class = \"Normal kilolu\"\n",
    "    elif bmi < 30:\n",
    "        bmi_class = \"Fazla kilolu\"\n",
    "    elif bmi < 40:\n",
    "        bmi_class = \"Obez\"\n",
    "    else:\n",
    "        bmi_class = \"İleri derecede obez\"\n",
    "    \n",
    "      with open(\"veriler.csv\", \"a\") as f:\n",
    "        f.write(f\"{name},{age},{height},{weight},{bmi},{bmi_class}\\n\")\n"
   ]
  },
  {
   "attachments": {},
   "cell_type": "markdown",
   "metadata": {},
   "source": [
    "# Problem 2\n",
    "**YetBar - Smoothie Bank**\n",
    "---\n",
    "YetBar spor salonunun girişinde bulunan, insansız bir sağlıklı içecek otomatıdır. Kullanıcı çeşitli girdiler smoothie içeceğine koyacağı ürünleri belirleyebilir, fiyat hesaplaması yaptırabilir ya da sadece menüyü görüntüleyebilir.\n",
    "\n",
    "**Projenin Amacı:**\n",
    "\n",
    "*   Birbirini etkileyen ve bir kod içerisinde birden fazla defa başvurulacak fonksiyonların oluşturulup, \"fonksiyonel\" proglamlamak.\n",
    "*   Büyük programları yazarken, yazılımcı olarak yapabileceğimiz hatalardan kaçınmak için kontrol yöntemleri geliştirmek.\n",
    "*   Kullanıcı inputlarını ve yaptığımız hesapları, raporlamak/loglamak amacıyla kaydetmek.\n",
    "\n",
    "**Programdan Beklenen Çıktılar**\n",
    "* Program kullanıcıya temelde 2 farklı işlem yapma imkanı sağlar.\n",
    "> 1. Menüyü görüntüleme\n",
    "> 3. Satın alma\n",
    "* Satın alınan her içecek tarih, fiyat bilgisi ile kaydedilmeli ve her zaman ulaşılabilir olmalıdır.\n",
    "\n",
    "\n"
   ]
  },
  {
   "cell_type": "code",
   "execution_count": null,
   "metadata": {},
   "outputs": [],
   "source": [
    "menu = {\"Muzlu smoothie\": 12.0, \"Yaban mersinli smoothie\": 10.0, \"Mango-Peynirli smoothie\": 14.0, \"Beyaz Çikolatalı smoothie\": 15.0, \"Yeşil smoothie\": 11.0}\n",
    "def menu_goruntule():\n",
    "    print(\"YetBar Menü:\")\n",
    "    for item, price in menu.items():\n",
    "        print(f\"{item}: {price} TL\")\n",
    "def siparis_al():\n",
    "    siparisler = {}\n",
    "    while True:\n",
    "        item = input(\"Sipariş vermek istediğiniz ürünü girin (Çıkış için 'q' basın): \")\n",
    "        if item == \"q\":\n",
    "            break\n",
    "        if item not in menu:\n",
    "            print(\"Geçersiz bir ürün girdiniz, lütfen tekrar deneyin.\")\n",
    "            continue\n",
    "        try:\n",
    "            adet = int(input(f\"{item} kaç adet?: \"))\n",
    "        except ValueError:\n",
    "            print(\"Geçersiz bir sayı girdiniz, lütfen tekrar deneyin.\")\n",
    "            continue\n",
    "        siparisler[item] = adet\n",
    "    return siparisler\n",
    "def fiyat_hesapla(siparisler):\n",
    "    toplam_fiyat = 0\n",
    "    for item, adet in siparisler.items():\n",
    "        toplam_fiyat += adet * menu[item]\n",
    "    return toplam_fiyat\n",
    "import datetime\n",
    "\n",
    "def siparis_kaydet(siparisler, fiyat):\n",
    "    tarih = datetime.datetime.now()\n",
    "    with open(\"siparisler.txt\", \"a\") as f:\n",
    "        f.write(f\"{tarih}\\t{str(siparisler)}\\t{fiyat} TL\\n\")"
   ]
  }
 ],
 "metadata": {
  "kernelspec": {
   "display_name": "Python 3",
   "language": "python",
   "name": "python3"
  },
  "language_info": {
   "codemirror_mode": {
    "name": "ipython",
    "version": 3
   },
   "file_extension": ".py",
   "mimetype": "text/x-python",
   "name": "python",
   "nbconvert_exporter": "python",
   "pygments_lexer": "ipython3",
   "version": "3.11.1"
  },
  "orig_nbformat": 4,
  "vscode": {
   "interpreter": {
    "hash": "5026d2d6e7aaaaba093def813beadff083d8733e4a511af01735cbabd156995d"
   }
  }
 },
 "nbformat": 4,
 "nbformat_minor": 2
}
